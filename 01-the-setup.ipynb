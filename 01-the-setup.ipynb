{
 "cells": [
  {
   "cell_type": "markdown",
   "metadata": {},
   "source": [
    "# The Setup\n",
    "> BC 1 (Before Corona 1; aka AD 2019)\n",
    "\n",
    "#hide\n",
    "- toc: true\n",
    "- branch: master\n",
    "- badges: true\n",
    "- comments: true\n",
    "- categories: [pystory, jupyter]\n",
    "- image: images/logo.png\n",
    "- hide: false\n",
    "- search_exclude: true\n",
    "- metadata_key1: pystory\n",
    "- metadata_key2: pymonster"
   ]
  },
  {
   "cell_type": "markdown",
   "metadata": {},
   "source": [
    "## The Environment\n",
    "\n",
    "   When Jason came back after lunch, the boss was talking to Heather, my only other colleague in the small private investigator office. I thought I saw a smirk on her face and she turned to say,\n",
    "   \n",
    "    \"Jason, the boss has a new assignment for you, MIT graduate\"\n",
    "   \n",
    "    'Not again. Why doesn't she just shut up' thought I.\n",
    "     \n",
    "     'She knows that I majored in Spanish at MIT'\n",
    "\n",
    "Before I could say anthing, the boss quickly gave a description of the case in his typical cut the chase manner. He is a long time resident \n",
    "   \n",
    "   A walkin to a private investigator office is not \n",
    "   The private investigation office is located in a seedy part of South Lake Union area of Seattle.\n",
    "\n",
    "\n",
    "\n",
    "\n",
    "\n",
    "## "
   ]
  },
  {
   "cell_type": "code",
   "execution_count": null,
   "metadata": {},
   "outputs": [],
   "source": [
    "print(\"Hello world\")"
   ]
  }
 ],
 "metadata": {
  "kernelspec": {
   "display_name": "Python 3",
   "language": "python",
   "name": "python3"
  },
  "language_info": {
   "codemirror_mode": {
    "name": "ipython",
    "version": 3
   },
   "file_extension": ".py",
   "mimetype": "text/x-python",
   "name": "python",
   "nbconvert_exporter": "python",
   "pygments_lexer": "ipython3",
   "version": "3.8.2"
  }
 },
 "nbformat": 4,
 "nbformat_minor": 4
}
