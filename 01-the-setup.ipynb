{
 "cells": [
  {
   "cell_type": "markdown",
   "metadata": {},
   "source": [
    "# The Setup\n",
    "> BC 1 (Before Corona 1; aka AD 2019)"
   ]
  },
  {
   "cell_type": "markdown",
   "metadata": {},
   "source": [
    "## The Environment\n",
    "\n",
    "  When Jason Strubb came back from his lunch, Heather was talking to the boss. She is the only other colleague in the small private investigator's office located in South Lake Union. Often referred as SLU by Seattle natives, the area was once a seedy neighborhood, but now it is an IT tech hub with high-rise office buildings and chic restaurants. The red brick building where the private investigator's office is located is one of very few\n",
    "remaining buildings from the old neighborhood. Towered by surrounding massive Amazon buildings, the few remaining old buildings seem totally out of place, especially an adult shop right in front of the investigator's office. It used to be an embarrassment for the young college graduate Jason whenever he came to the office.\n",
    "\n",
    "   Jason thought he saw a smirk on Heather's face when the boss turned around to say to him:\n",
    "   \n",
    "   \"Hi, Jason, I have a new case for you. We want you to find someone.\"\n",
    "   \n",
    "   'Sounds simple', thought Jason.\n",
    "   \n",
    "   \"The thing is that the investigation must be done in strict confidentiality and total secrecy.\"\n",
    "\n",
    "Such requests are quite common for a private investigator's office, but there was more.\n",
    "\n",
    "   \"So who am I looking for?\", Jason asked.\n",
    "   \n",
    "   \"Well, here is a unique thing about this case. We don't know.\"\n",
    "   \n",
    "   \"What? We have to find someone, but we don't know who we should look for?\"\n",
    "   \n",
    "   \"Well, yes and no. The client did not say exactly who he was looking for,\n",
    "   but he said that he left breadcrumbs to follow that would lead you to find him.\"\n",
    "   \n",
    "The most difficult part of any investigation is separating clues from ruses,\n",
    "information from misinformation, and data from garbage. Once you know where\n",
    "real information is, truth is within an arm's reach.\n",
    "\n",
    "   \"Then how can I know if I found the person the client is looking for?\"\n",
    "   \n",
    "   \"I asked the same question and his answer was simply, 'You will know'\"\n",
    "   \n",
    "The whole thing seems like an April Fool's joke except that the expression of the boss\n",
    "is dead serious.\n",
    "\n",
    "   \"He promised to pay all the expenses incurred during the investigation and he already\n",
    "   paid the upfront fee.\"\n",
    "   \n",
    "   \"Okay. Where should I start?\"\n",
    "   \n",
    "   \"I will forward the email from the client, but basically you just have to follow his notebooks.\"\n",
    "   \n",
    "   \"Fair enough. Let's see.\"\n",
    "\n",
    "Jason opened his computer to check the email. Sure enough, the email from the boss was at the top\n",
    "of his inbox. It was a long email thread that went back and forth between the boss and the client.\n",
    "\n",
    "   When Jason finally found the instructions on where to look for the notebooks James mentioned,\n",
    "he quickly found out that they are not paper notebooks.\n",
    "Instead, they are [Jupyter notebooks](https://jupyter.org/).\n",
    "Jason was a little puzzled.\n",
    "\n",
    "   \"What are Jupiter notebooks?\"\n",
    "   \n",
    "   \"I don't know. They seemed to be used in computer science. Hey, you should know it better, MIT graduate.\"\n",
    "    \n",
    "   'Why doesn't she just shut up.' Jason regretted asking Heather.\n",
    "   'She knows that I majored in Spanish.'\n",
    "\n",
    "A quick web search revealed that Jupyter was not a typo. [Jupyter notebooks](https://jupyter.org/) are documents that contain both code and text. They are popular among data scientists and AI engineers to experiment and quickly see the results.\n",
    "\n",
    "   When Jason found out that he had to follow along notebooks that contain code, he had a sinking feeling. His alma mater is a world famous higher education institution for its prestigious engineering programs, but Jason barely knows about coding. He tried to learn C++ in one summer, but he could never pass the point of\n",
    " \"[pointers](https://en.wikipedia.org/wiki/Pointer_\\(computer_programming\\))\". His courtship with coding ended soon after. Now he regrets he gave up too quickly. Luckily, there were enough information on how to install JupyterLabs in his computer and they were fairly easy.\n",
    "\n",
    "   He also found out that he also needs to install [Python](https://www.python.org/downloads/) which is the most popular language among AI researchers and data scientists. For the editor, instead of using Microsoft Word, he had to use a so-called [IDE](https://en.wikipedia.org/wiki/Integrated_development_environment) (Integrated Development Environment) and [PyCharm](https://www.jetbrains.com/pycharm/) seems to be the preferred choice.\n",
    "\n",
    "   Jason spent the rest of the afternoon fumbling through a whole set of instructions and downloading the software. Shortly before five, he was finally ready to write the first line of code in Python in a Jupyter notebook. As a person who had a brief stint with C++, he knew exactly what he needs to write. He proudly wrote on Jupyter notebook cell:"
   ]
  },
  {
   "cell_type": "code",
   "execution_count": null,
   "metadata": {},
   "outputs": [],
   "source": [
    "print(\"Hello world\")"
   ]
  }
 ],
 "metadata": {
  "kernelspec": {
   "display_name": "Python 3",
   "language": "python",
   "name": "python3"
  },
  "language_info": {
   "codemirror_mode": {
    "name": "ipython",
    "version": 3
   },
   "file_extension": ".py",
   "mimetype": "text/x-python",
   "name": "python",
   "nbconvert_exporter": "python",
   "pygments_lexer": "ipython3",
   "version": "3.8.2"
  }
 },
 "nbformat": 4,
 "nbformat_minor": 4
}
